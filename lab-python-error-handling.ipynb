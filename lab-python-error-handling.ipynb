{
 "cells": [
  {
   "cell_type": "markdown",
   "id": "25d7736c-ba17-4aff-b6bb-66eba20fbf4e",
   "metadata": {},
   "source": [
    "# Lab | Error Handling"
   ]
  },
  {
   "cell_type": "markdown",
   "id": "bc99b386-7508-47a0-bcdb-d969deaf6c8b",
   "metadata": {},
   "source": [
    "## Exercise: Error Handling for Managing Customer Orders\n",
    "\n",
    "The implementation of your code for managing customer orders assumes that the user will always enter a valid input. \n",
    "\n",
    "For example, we could modify the `initialize_inventory` function to include error handling.\n",
    "   - If the user enters an invalid quantity (e.g., a negative value or a non-numeric value), display an error message and ask them to re-enter the quantity for that product.\n",
    "   - Use a try-except block to handle the error and continue prompting the user until a valid quantity is entered.\n",
    "\n",
    "```python\n",
    "# Step 1: Define the function for initializing the inventory with error handling\n",
    "def initialize_inventory(products):\n",
    "    inventory = {}\n",
    "    for product in products:\n",
    "        valid_quantity = False\n",
    "        while not valid_quantity:\n",
    "            try:\n",
    "                quantity = int(input(f\"Enter the quantity of {product}s available: \"))\n",
    "                if quantity < 0:\n",
    "                    raise ValueError(\"Invalid quantity! Please enter a non-negative value.\")\n",
    "                valid_quantity = True\n",
    "            except ValueError as error:\n",
    "                print(f\"Error: {error}\")\n",
    "        inventory[product] = quantity\n",
    "    return inventory\n",
    "\n",
    "# Or, in another way:\n",
    "\n",
    "def initialize_inventory(products):\n",
    "    inventory = {}\n",
    "    for product in products:\n",
    "        valid_input = False\n",
    "        while not valid_input:\n",
    "            try:\n",
    "                quantity = int(input(f\"Enter the quantity of {product}s available: \"))\n",
    "                if quantity >= 0:\n",
    "                    inventory[product] = quantity\n",
    "                    valid_input = True\n",
    "                else:\n",
    "                    print(\"Quantity cannot be negative. Please enter a valid quantity.\")\n",
    "            except ValueError:\n",
    "                print(\"Invalid input. Please enter a valid quantity.\")\n",
    "    return inventory\n",
    "```\n",
    "\n",
    "Let's enhance your code by implementing error handling to handle invalid inputs.\n",
    "\n",
    "Follow the steps below to complete the exercise:\n",
    "\n",
    "2. Modify the `calculate_total_price` function to include error handling.\n",
    "   - If the user enters an invalid price (e.g., a negative value or a non-numeric value), display an error message and ask them to re-enter the price for that product.\n",
    "   - Use a try-except block to handle the error and continue prompting the user until a valid price is entered.\n",
    "\n",
    "3. Modify the `get_customer_orders` function to include error handling.\n",
    "   - If the user enters an invalid number of orders (e.g., a negative value or a non-numeric value), display an error message and ask them to re-enter the number of orders.\n",
    "   - If the user enters an invalid product name (e.g., a product name that is not in the inventory), or that doesn't have stock available, display an error message and ask them to re-enter the product name. *Hint: you will need to pass inventory as a parameter*\n",
    "   - Use a try-except block to handle the error and continue prompting the user until a valid product name is entered.\n",
    "\n",
    "4. Test your code by running the program and deliberately entering invalid quantities and product names. Make sure the error handling mechanism works as expected.\n"
   ]
  },
  {
   "cell_type": "code",
   "execution_count": 1,
   "id": "0b4df336",
   "metadata": {},
   "outputs": [],
   "source": [
    "#creo funcion para ingresar cantidad valida iniciando el inventario\n",
    "def inicializar_inventario(productos):\n",
    "    inventario = {} #Diccionario vacio para guardar inventario\n",
    "    for producto in productos:\n",
    "        valido = False\n",
    "        while not valido: #Se repite hasta que el usuario elija una cantidad válida\n",
    "            try:\n",
    "                cantidad = int(input(f\"Ingrese la cantidad disponible de {producto}s: \"))\n",
    "                if cantidad < 0:\n",
    "                    print(\"La cantidad no puede ser negativa. Intenta de nuevo.\")\n",
    "                else:\n",
    "                    inventario[producto] = cantidad # Guardamos en el diccionario\n",
    "                    valido = True\n",
    "            except ValueError:\n",
    "                print(\"Entrada invalida. Por favor, ingresa un numero.\")\n",
    "    return inventario"
   ]
  },
  {
   "cell_type": "code",
   "execution_count": 2,
   "id": "c3538c0e",
   "metadata": {},
   "outputs": [],
   "source": [
    "#Pide al usuario ingresar un precio valido para un producto y calcula el precio total de productos y unidades\n",
    "def calcular_precio_total(producto, unidades):\n",
    "    valido = False\n",
    "    while not valido: #Se repite hasta que el usuario elija un precio valido\n",
    "        try:\n",
    "            precio = float(input(f\"Ingrese el precio por unidad de {producto}: \"))\n",
    "            if precio < 0:\n",
    "                print(\"El precio no puede ser negativo. Intenta de nuevo.\")\n",
    "            else:\n",
    "                valido = True\n",
    "        except ValueError:\n",
    "            print(\"Entrada inválida. Ingresa un número válido.\")\n",
    "    return precio * unidades"
   ]
  },
  {
   "cell_type": "code",
   "execution_count": 3,
   "id": "823a27d3",
   "metadata": {},
   "outputs": [],
   "source": [
    "# Funcion de pedidos, cuantos productos y luego pidiendo producto a producto\n",
    "def obtener_pedidos_cliente(inventario):\n",
    "    pedidos = {}\n",
    "\n",
    "     # Validar número de productos a ordenar\n",
    "    while True:\n",
    "        try:\n",
    "            cantidad_pedidos = int(input(\"¿Cuántos productos desea ordenar?: \"))\n",
    "            if cantidad_pedidos < 0:\n",
    "                print(\"El número no puede ser negativo. Intenta de nuevo.\")\n",
    "            else:\n",
    "                break\n",
    "        except ValueError:\n",
    "            print(\"Entrada inválida. Ingresa un número válido.\")\n",
    "\n",
    "    # Pedir productos uno por uno\n",
    "    for _ in range(cantidad_pedidos):\n",
    "        while True:\n",
    "            producto = input(\"Ingrese el nombre del producto: \")\n",
    "            if producto in inventario and inventario[producto] > 0:\n",
    "                pedidos[producto] = pedidos.get(producto, 0) + 1\n",
    "                inventario[producto] -= 1\n",
    "                break\n",
    "            else:\n",
    "                print(\"Producto inválido o sin stock. Intenta con otro.\")\n",
    "    return pedidos"
   ]
  },
  {
   "cell_type": "code",
   "execution_count": 4,
   "id": "11d13d35",
   "metadata": {},
   "outputs": [],
   "source": [
    "# Lista de productos ejemplo\n",
    "productos = [\"manzana\", \"pera\", \"naranja\", \"platano\"]"
   ]
  },
  {
   "cell_type": "code",
   "execution_count": 5,
   "id": "6f3fb797",
   "metadata": {},
   "outputs": [
    {
     "name": "stdout",
     "output_type": "stream",
     "text": [
      "Entrada invalida. Por favor, ingresa un numero.\n"
     ]
    }
   ],
   "source": [
    "# Inicializamos inventario\n",
    "inventario = inicializar_inventario(productos)"
   ]
  },
  {
   "cell_type": "code",
   "execution_count": 6,
   "id": "be397390",
   "metadata": {},
   "outputs": [],
   "source": [
    "# Obtenemos pedidos del cliente\n",
    "pedidos = obtener_pedidos_cliente(inventario)"
   ]
  },
  {
   "cell_type": "code",
   "execution_count": 7,
   "id": "1870d173",
   "metadata": {},
   "outputs": [
    {
     "name": "stdout",
     "output_type": "stream",
     "text": [
      "Pedidos realizados: {'manzana': 1, 'pera': 1}\n"
     ]
    }
   ],
   "source": [
    "# Mostramos resultados\n",
    "print(\"Pedidos realizados:\", pedidos)"
   ]
  }
 ],
 "metadata": {
  "kernelspec": {
   "display_name": "Python 3",
   "language": "python",
   "name": "python3"
  },
  "language_info": {
   "codemirror_mode": {
    "name": "ipython",
    "version": 3
   },
   "file_extension": ".py",
   "mimetype": "text/x-python",
   "name": "python",
   "nbconvert_exporter": "python",
   "pygments_lexer": "ipython3",
   "version": "3.12.1"
  }
 },
 "nbformat": 4,
 "nbformat_minor": 5
}
